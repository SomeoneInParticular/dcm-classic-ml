{
 "cells": [
  {
   "cell_type": "markdown",
   "id": "7102f4be5cdc44f3",
   "metadata": {},
   "source": [
    "# Setup"
   ]
  },
  {
   "cell_type": "code",
   "execution_count": null,
   "id": "97b2ca00f2859c1d",
   "metadata": {},
   "outputs": [],
   "source": [
    "import numpy as np\n",
    "import pandas as pd"
   ]
  },
  {
   "cell_type": "markdown",
   "id": "c2482bf5c194e5c4",
   "metadata": {},
   "source": [
    "# Imaging Data"
   ]
  },
  {
   "cell_type": "markdown",
   "id": "6fbb985a63be671d",
   "metadata": {},
   "source": [
    "## Data Concatenation"
   ]
  },
  {
   "cell_type": "markdown",
   "id": "3807229e6fc0c444",
   "metadata": {},
   "source": [
    "Grab and append the results of every sample which ran to completion into one file (uncomment to run; it can be quite expensive)"
   ]
  },
  {
   "cell_type": "code",
   "execution_count": null,
   "id": "baf5be2caf9c82cd",
   "metadata": {},
   "outputs": [],
   "source": [
    "# %%bash\n",
    "#\n",
    "# cat /work/cadotte_lab/bids_cmri/derivatives/sct_6.5/*/*/softseg_vertebrae_metrics.csv > \"full_metrics_softseg_c2c6.csv\""
   ]
  },
  {
   "cell_type": "code",
   "execution_count": null,
   "id": "8bddd12481401349",
   "metadata": {},
   "outputs": [],
   "source": [
    "img_df = pd.read_csv(\"full_metrics_softseg_c2c6.csv\")"
   ]
  },
  {
   "cell_type": "markdown",
   "id": "dd908127f7d6c91f",
   "metadata": {},
   "source": [
    "Remove the duplicate headers introduced via this process"
   ]
  },
  {
   "cell_type": "code",
   "execution_count": null,
   "id": "d13207c1ae382b94",
   "metadata": {},
   "outputs": [],
   "source": [
    "def remove_dup_headers(df):\n",
    "    df = df.loc[df.loc[:, \"Timestamp\"] != \"Timestamp\", :]\n",
    "    return df"
   ]
  },
  {
   "cell_type": "code",
   "execution_count": null,
   "id": "f23abcc5516a7",
   "metadata": {},
   "outputs": [],
   "source": [
    "img_df = remove_dup_headers(img_df)"
   ]
  },
  {
   "cell_type": "markdown",
   "id": "262aac8fbeaf8401",
   "metadata": {},
   "source": [
    "## Indexing by Image Type"
   ]
  },
  {
   "cell_type": "code",
   "execution_count": null,
   "id": "23d0311d94da6630",
   "metadata": {},
   "outputs": [],
   "source": [
    "def parse_filenames(df):\n",
    "    # Get the root file names out of the paths in the dataset\n",
    "    file_names = [f.split('/')[-1] for f in df['Filename']]\n",
    "\n",
    "    # Split them into their notable components\n",
    "    file_components = [f.split('_') for f in file_names]\n",
    "\n",
    "    # Grab the patient ID from the components\n",
    "    patient_ids = [f[0] for f in file_components]\n",
    "\n",
    "    # Grab the orientation (acquisition type) from the components\n",
    "    acqs = [f[1].split('-')[1] for f in file_components]\n",
    "\n",
    "    # Get the contrast type of the image from the file components\n",
    "    contrasts = [f[-2] for f in file_components]\n",
    "\n",
    "    # Get the run number, if one exists, from the file components\n",
    "    runs = [int(f[-3].split('-')[1]) if \"run\" in f[-3] else None for f in file_components]\n",
    "    \n",
    "    idx = pd.MultiIndex.from_tuples(\n",
    "        zip(patient_ids, acqs, contrasts, runs, df['VertLevel']),\n",
    "        names=['GRP', 'acq', 'weight', 'run', 'vert_level']\n",
    "    )\n",
    "    return idx"
   ]
  },
  {
   "cell_type": "code",
   "execution_count": null,
   "id": "ab37c6c32133f134",
   "metadata": {},
   "outputs": [],
   "source": [
    "img_df_idx = parse_filenames(img_df)\n",
    "img_df.index = img_df_idx\n",
    "img_df.shape"
   ]
  },
  {
   "cell_type": "markdown",
   "id": "666ddf975658969a",
   "metadata": {},
   "source": [
    "## Redundant Feature Purge"
   ]
  },
  {
   "cell_type": "markdown",
   "id": "c6c6582353cc8df4",
   "metadata": {},
   "source": [
    "Drop a number of metadata/irrelevant features before proceeding"
   ]
  },
  {
   "cell_type": "code",
   "execution_count": null,
   "id": "b21c77692f04daa6",
   "metadata": {},
   "outputs": [],
   "source": [
    "to_drop = ['Timestamp', 'SCT Version', 'Filename', 'Slice (I->S)', 'VertLevel', 'DistancePMJ']"
   ]
  },
  {
   "cell_type": "code",
   "execution_count": null,
   "id": "7f78780f845c8264",
   "metadata": {},
   "outputs": [],
   "source": [
    "img_df = img_df.drop(to_drop, axis=1)"
   ]
  },
  {
   "cell_type": "markdown",
   "id": "74757ede2c8d3e48",
   "metadata": {},
   "source": [
    "## Vertebrae as Feature"
   ]
  },
  {
   "cell_type": "code",
   "execution_count": null,
   "id": "6cb601fc96edb46f",
   "metadata": {},
   "outputs": [],
   "source": [
    "def pivot_vertebrae(df):\n",
    "    return df.unstack(level=\"vert_level\")"
   ]
  },
  {
   "cell_type": "code",
   "execution_count": null,
   "id": "735ddce914eb10e0",
   "metadata": {},
   "outputs": [],
   "source": [
    "img_df = pivot_vertebrae(img_df)\n",
    "img_df.shape"
   ]
  },
  {
   "cell_type": "markdown",
   "id": "cef88c1b0ee2dfd",
   "metadata": {},
   "source": [
    "## Column and Index Reformatting"
   ]
  },
  {
   "cell_type": "markdown",
   "id": "4aa1d9fcd974088e",
   "metadata": {},
   "source": [
    "Stack the columns so they aren't a multi-index (which can cause major headaches in ML analysis)"
   ]
  },
  {
   "cell_type": "code",
   "execution_count": null,
   "id": "63cdbd239e4564cc",
   "metadata": {},
   "outputs": [],
   "source": [
    "def stack_columns(df):\n",
    "    new_cols = [f\"{c[0]} [V{c[1]}]\" for c in df.columns]\n",
    "    df.columns = new_cols\n",
    "    return df"
   ]
  },
  {
   "cell_type": "code",
   "execution_count": null,
   "id": "50acf8f128e28f2d",
   "metadata": {},
   "outputs": [],
   "source": [
    "stack_columns(img_df).shape"
   ]
  },
  {
   "cell_type": "markdown",
   "id": "73501598a597d96b",
   "metadata": {},
   "source": [
    "Unstack everything except GRP so that it is a \"feature\" during data combination"
   ]
  },
  {
   "cell_type": "code",
   "execution_count": null,
   "id": "4164ac29af214727",
   "metadata": {},
   "outputs": [],
   "source": [
    "def unstack_index(df):\n",
    "    tmp_df = df.reset_index()\n",
    "    tmp_df = tmp_df.set_index('GRP')\n",
    "    return tmp_df"
   ]
  },
  {
   "cell_type": "code",
   "execution_count": null,
   "id": "3621fb5704b46c61",
   "metadata": {},
   "outputs": [],
   "source": [
    "img_df = unstack_index(img_df)\n",
    "img_df.shape"
   ]
  },
  {
   "cell_type": "markdown",
   "id": "ed06267d80be556b",
   "metadata": {},
   "source": [
    "# Data Joining and Finalization"
   ]
  },
  {
   "cell_type": "markdown",
   "id": "9a04be23d492f6b7",
   "metadata": {},
   "source": [
    "## Load Clinical Data"
   ]
  },
  {
   "cell_type": "code",
   "execution_count": null,
   "id": "eb9e34db109c715a",
   "metadata": {},
   "outputs": [],
   "source": [
    "final_participants_df = pd.read_csv('../../clinical/participants_cleaned.tsv', sep='\\t').set_index('GRP')\n",
    "final_participants_df.shape"
   ]
  },
  {
   "cell_type": "markdown",
   "id": "19511025e16b7e3e",
   "metadata": {},
   "source": [
    "## Data Joining"
   ]
  },
  {
   "cell_type": "code",
   "execution_count": null,
   "id": "209c7bbe6c9a5ed",
   "metadata": {},
   "outputs": [],
   "source": [
    "final_df = img_df.join(final_participants_df, how='inner')\n",
    "final_df.shape"
   ]
  },
  {
   "cell_type": "code",
   "execution_count": null,
   "id": "305929c1d69246aa",
   "metadata": {},
   "outputs": [],
   "source": [
    "final_df"
   ]
  },
  {
   "cell_type": "markdown",
   "id": "23ccb70cf2708233",
   "metadata": {},
   "source": [
    "## Redundant run deletion"
   ]
  },
  {
   "cell_type": "markdown",
   "id": "b1e6b53c8d8edcf9",
   "metadata": {},
   "source": [
    "Keep only the last run of each entry remaining to avoid redundancy"
   ]
  },
  {
   "cell_type": "code",
   "execution_count": null,
   "id": "4d76a91114f83d94",
   "metadata": {},
   "outputs": [],
   "source": [
    "final_df = final_df.sort_values('run').groupby(['GRP', 'acq', 'weight']).last()\n",
    "final_df = final_df.drop(columns=['run'])\n",
    "final_df.shape"
   ]
  },
  {
   "cell_type": "markdown",
   "id": "103f0a9ec03bc3ac",
   "metadata": {},
   "source": [
    "## Stratification"
   ]
  },
  {
   "cell_type": "markdown",
   "id": "ab0d3554-f939-421a-9d81-b4f4a04d1c8c",
   "metadata": {},
   "source": [
    "Initial stratification"
   ]
  },
  {
   "cell_type": "code",
   "execution_count": null,
   "id": "5f10588974001144",
   "metadata": {},
   "outputs": [],
   "source": [
    "df_map = dict()\n",
    "for idx, df in final_df.reset_index().groupby(['acq', 'weight']):\n",
    "    # If there are less than 50 samples, just skip\n",
    "    if df.shape[0] < 50:\n",
    "        continue\n",
    "    # Otherwise, save the result to a spreadsheet for further use\n",
    "    df_label = '_'.join(idx)\n",
    "    df_map[df_label] = df"
   ]
  },
  {
   "cell_type": "markdown",
   "id": "99222f8e-57a2-4686-9438-26baa240346e",
   "metadata": {
    "ExecuteTime": {
     "end_time": "2024-11-30T01:31:06.566518Z",
     "start_time": "2024-11-30T01:31:06.565314Z"
    }
   },
   "source": [
    "Full datasets"
   ]
  },
  {
   "cell_type": "code",
   "execution_count": null,
   "id": "832889aa-4e3b-40ec-9cb1-e738c8943973",
   "metadata": {},
   "outputs": [],
   "source": [
    "for k, df, in df_map.items():\n",
    "    file_out = f\"full_{k}.tsv\"\n",
    "    df.set_index('GRP').to_csv(file_out, sep='\\t')"
   ]
  },
  {
   "cell_type": "markdown",
   "id": "0d406671-b5d4-4453-87a3-a990787a0014",
   "metadata": {},
   "source": [
    "Imaging metrics only"
   ]
  },
  {
   "cell_type": "code",
   "execution_count": null,
   "id": "16daba58-abb1-44b4-91eb-a272b7fec405",
   "metadata": {},
   "outputs": [],
   "source": [
    "img_cols = list(img_df.drop(columns=['run']).columns)\n",
    "img_cols.extend(['GRP', 'Recovery Class'])\n",
    "\n",
    "for k, df, in df_map.items():\n",
    "    file_out = f\"img_only_{k}.tsv\"\n",
    "    sub_df = df.loc[:, img_cols]\n",
    "    sub_df.set_index('GRP').to_csv(file_out, sep='\\t')"
   ]
  },
  {
   "cell_type": "code",
   "execution_count": null,
   "id": "7296190e-2eb1-4b42-9522-e057a433bb43",
   "metadata": {},
   "outputs": [],
   "source": []
  }
 ],
 "metadata": {
  "kernelspec": {
   "display_name": "Python 3 (ipykernel)",
   "language": "python",
   "name": "python3"
  },
  "language_info": {
   "codemirror_mode": {
    "name": "ipython",
    "version": 3
   },
   "file_extension": ".py",
   "mimetype": "text/x-python",
   "name": "python",
   "nbconvert_exporter": "python",
   "pygments_lexer": "ipython3",
   "version": "3.11.10"
  }
 },
 "nbformat": 4,
 "nbformat_minor": 5
}
