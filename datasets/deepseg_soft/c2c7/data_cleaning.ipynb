{
 "cells": [
  {
   "cell_type": "markdown",
   "id": "7102f4be5cdc44f3",
   "metadata": {},
   "source": [
    "# Setup"
   ]
  },
  {
   "cell_type": "code",
   "execution_count": 1,
   "id": "97b2ca00f2859c1d",
   "metadata": {},
   "outputs": [],
   "source": [
    "import numpy as np\n",
    "import pandas as pd"
   ]
  },
  {
   "cell_type": "markdown",
   "id": "c2482bf5c194e5c4",
   "metadata": {},
   "source": [
    "# Imaging Data"
   ]
  },
  {
   "cell_type": "markdown",
   "id": "6fbb985a63be671d",
   "metadata": {},
   "source": [
    "## Data Concatenation"
   ]
  },
  {
   "cell_type": "markdown",
   "id": "3807229e6fc0c444",
   "metadata": {},
   "source": [
    "Grab and append the results of every sample which ran to completion into one file (uncomment to run; it can be quite expensive)"
   ]
  },
  {
   "cell_type": "code",
   "execution_count": 2,
   "id": "baf5be2caf9c82cd",
   "metadata": {},
   "outputs": [],
   "source": [
    "# %%bash\n",
    "#\n",
    "# cat /work/cadotte_lab/bids_cmri/derivatives/sct_6.5/*/*/softseg_vertebrae_metrics_c2c7.csv > \"full_metrics_softseg_c2c7.csv\""
   ]
  },
  {
   "cell_type": "code",
   "execution_count": 3,
   "id": "8bddd12481401349",
   "metadata": {},
   "outputs": [],
   "source": [
    "img_df = pd.read_csv(\"full_metrics_softseg_c2c7.csv\")"
   ]
  },
  {
   "cell_type": "markdown",
   "id": "dd908127f7d6c91f",
   "metadata": {},
   "source": [
    "Remove the duplicate headers introduced via this process"
   ]
  },
  {
   "cell_type": "code",
   "execution_count": 4,
   "id": "d13207c1ae382b94",
   "metadata": {},
   "outputs": [],
   "source": [
    "def remove_dup_headers(df):\n",
    "    df = df.loc[df.loc[:, \"Timestamp\"] != \"Timestamp\", :]\n",
    "    return df"
   ]
  },
  {
   "cell_type": "code",
   "execution_count": 5,
   "id": "f23abcc5516a7",
   "metadata": {},
   "outputs": [],
   "source": [
    "img_df = remove_dup_headers(img_df)"
   ]
  },
  {
   "cell_type": "markdown",
   "id": "262aac8fbeaf8401",
   "metadata": {},
   "source": [
    "## Indexing by Image Type"
   ]
  },
  {
   "cell_type": "code",
   "execution_count": 6,
   "id": "23d0311d94da6630",
   "metadata": {},
   "outputs": [],
   "source": [
    "def parse_filenames(df):\n",
    "    # Get the root file names out of the paths in the dataset\n",
    "    file_names = [f.split('/')[-1] for f in df['Filename']]\n",
    "\n",
    "    # Split them into their notable components\n",
    "    file_components = [f.split('_') for f in file_names]\n",
    "\n",
    "    # Grab the patient ID from the components\n",
    "    patient_ids = [f[0] for f in file_components]\n",
    "\n",
    "    # Grab the orientation (acquisition type) from the components\n",
    "    acqs = [f[1].split('-')[1] for f in file_components]\n",
    "\n",
    "    # Get the contrast type of the image from the file components\n",
    "    contrasts = [f[-2] for f in file_components]\n",
    "\n",
    "    # Get the run number, if one exists, from the file components\n",
    "    runs = [int(f[-3].split('-')[1]) if \"run\" in f[-3] else None for f in file_components]\n",
    "    \n",
    "    idx = pd.MultiIndex.from_tuples(\n",
    "        zip(patient_ids, acqs, contrasts, runs, df['VertLevel']),\n",
    "        names=['GRP', 'acq', 'weight', 'run', 'vert_level']\n",
    "    )\n",
    "    return idx"
   ]
  },
  {
   "cell_type": "code",
   "execution_count": 7,
   "id": "ab37c6c32133f134",
   "metadata": {},
   "outputs": [
    {
     "data": {
      "text/plain": [
       "(6971, 23)"
      ]
     },
     "execution_count": 7,
     "metadata": {},
     "output_type": "execute_result"
    }
   ],
   "source": [
    "img_df_idx = parse_filenames(img_df)\n",
    "img_df.index = img_df_idx\n",
    "img_df.shape"
   ]
  },
  {
   "cell_type": "markdown",
   "id": "666ddf975658969a",
   "metadata": {},
   "source": [
    "## Redundant Feature Purge"
   ]
  },
  {
   "cell_type": "markdown",
   "id": "c6c6582353cc8df4",
   "metadata": {},
   "source": [
    "Drop a number of metadata/irrelevant features before proceeding"
   ]
  },
  {
   "cell_type": "code",
   "execution_count": 8,
   "id": "b21c77692f04daa6",
   "metadata": {},
   "outputs": [],
   "source": [
    "to_drop = ['Timestamp', 'SCT Version', 'Filename', 'Slice (I->S)', 'VertLevel', 'DistancePMJ']"
   ]
  },
  {
   "cell_type": "code",
   "execution_count": 9,
   "id": "7f78780f845c8264",
   "metadata": {},
   "outputs": [],
   "source": [
    "img_df = img_df.drop(to_drop, axis=1)"
   ]
  },
  {
   "cell_type": "markdown",
   "id": "74757ede2c8d3e48",
   "metadata": {},
   "source": [
    "## Vertebrae as Feature"
   ]
  },
  {
   "cell_type": "code",
   "execution_count": 10,
   "id": "6cb601fc96edb46f",
   "metadata": {},
   "outputs": [],
   "source": [
    "def pivot_vertebrae(df):\n",
    "    return df.unstack(level=\"vert_level\")"
   ]
  },
  {
   "cell_type": "code",
   "execution_count": 11,
   "id": "735ddce914eb10e0",
   "metadata": {},
   "outputs": [
    {
     "data": {
      "text/plain": [
       "(1213, 102)"
      ]
     },
     "execution_count": 11,
     "metadata": {},
     "output_type": "execute_result"
    }
   ],
   "source": [
    "img_df = pivot_vertebrae(img_df)\n",
    "img_df.shape"
   ]
  },
  {
   "cell_type": "markdown",
   "id": "cef88c1b0ee2dfd",
   "metadata": {},
   "source": [
    "## Column and Index Reformatting"
   ]
  },
  {
   "cell_type": "markdown",
   "id": "4aa1d9fcd974088e",
   "metadata": {},
   "source": [
    "Stack the columns so they aren't a multi-index (which can cause major headaches in ML analysis)"
   ]
  },
  {
   "cell_type": "code",
   "execution_count": 12,
   "id": "63cdbd239e4564cc",
   "metadata": {},
   "outputs": [],
   "source": [
    "def stack_columns(df):\n",
    "    new_cols = [f\"{c[0]} [V{c[1]}]\" for c in df.columns]\n",
    "    df.columns = new_cols\n",
    "    return df"
   ]
  },
  {
   "cell_type": "code",
   "execution_count": 13,
   "id": "50acf8f128e28f2d",
   "metadata": {},
   "outputs": [
    {
     "data": {
      "text/plain": [
       "(1213, 102)"
      ]
     },
     "execution_count": 13,
     "metadata": {},
     "output_type": "execute_result"
    }
   ],
   "source": [
    "stack_columns(img_df).shape"
   ]
  },
  {
   "cell_type": "markdown",
   "id": "73501598a597d96b",
   "metadata": {},
   "source": [
    "Unstack everything except GRP so that it is a \"feature\" during data combination"
   ]
  },
  {
   "cell_type": "code",
   "execution_count": 14,
   "id": "4164ac29af214727",
   "metadata": {},
   "outputs": [],
   "source": [
    "def unstack_index(df):\n",
    "    tmp_df = df.reset_index()\n",
    "    tmp_df = tmp_df.set_index('GRP')\n",
    "    return tmp_df"
   ]
  },
  {
   "cell_type": "code",
   "execution_count": 15,
   "id": "3621fb5704b46c61",
   "metadata": {},
   "outputs": [
    {
     "data": {
      "text/plain": [
       "(1213, 105)"
      ]
     },
     "execution_count": 15,
     "metadata": {},
     "output_type": "execute_result"
    }
   ],
   "source": [
    "img_df = unstack_index(img_df)\n",
    "img_df.shape"
   ]
  },
  {
   "cell_type": "markdown",
   "id": "ed06267d80be556b",
   "metadata": {},
   "source": [
    "# Data Joining and Finalization"
   ]
  },
  {
   "cell_type": "markdown",
   "id": "9a04be23d492f6b7",
   "metadata": {},
   "source": [
    "## Load Clinical Data"
   ]
  },
  {
   "cell_type": "code",
   "execution_count": 16,
   "id": "eb9e34db109c715a",
   "metadata": {},
   "outputs": [
    {
     "data": {
      "text/plain": [
       "(292, 132)"
      ]
     },
     "execution_count": 16,
     "metadata": {},
     "output_type": "execute_result"
    }
   ],
   "source": [
    "final_participants_df = pd.read_csv('../../clinical/participants_cleaned.tsv', sep='\\t').set_index('GRP')\n",
    "final_participants_df.shape"
   ]
  },
  {
   "cell_type": "markdown",
   "id": "19511025e16b7e3e",
   "metadata": {},
   "source": [
    "## Data Joining"
   ]
  },
  {
   "cell_type": "code",
   "execution_count": 17,
   "id": "209c7bbe6c9a5ed",
   "metadata": {},
   "outputs": [
    {
     "data": {
      "text/plain": [
       "(736, 237)"
      ]
     },
     "execution_count": 17,
     "metadata": {},
     "output_type": "execute_result"
    }
   ],
   "source": [
    "final_df = img_df.join(final_participants_df, how='inner')\n",
    "final_df.shape"
   ]
  },
  {
   "cell_type": "code",
   "execution_count": 18,
   "id": "305929c1d69246aa",
   "metadata": {},
   "outputs": [
    {
     "data": {
      "text/html": [
       "<div>\n",
       "<style scoped>\n",
       "    .dataframe tbody tr th:only-of-type {\n",
       "        vertical-align: middle;\n",
       "    }\n",
       "\n",
       "    .dataframe tbody tr th {\n",
       "        vertical-align: top;\n",
       "    }\n",
       "\n",
       "    .dataframe thead th {\n",
       "        text-align: right;\n",
       "    }\n",
       "</style>\n",
       "<table border=\"1\" class=\"dataframe\">\n",
       "  <thead>\n",
       "    <tr style=\"text-align: right;\">\n",
       "      <th></th>\n",
       "      <th>acq</th>\n",
       "      <th>weight</th>\n",
       "      <th>run</th>\n",
       "      <th>MEAN(area) [V2]</th>\n",
       "      <th>MEAN(area) [V3]</th>\n",
       "      <th>MEAN(area) [V4]</th>\n",
       "      <th>MEAN(area) [V5]</th>\n",
       "      <th>MEAN(area) [V6]</th>\n",
       "      <th>MEAN(area) [V7]</th>\n",
       "      <th>STD(area) [V2]</th>\n",
       "      <th>...</th>\n",
       "      <th>Work Status</th>\n",
       "      <th>Work Status (Category)</th>\n",
       "      <th>Comorbidities: Nicotine (Smoking)</th>\n",
       "      <th>Comorbidities: Nicotine (Smokeless)</th>\n",
       "      <th>Comorbidities: Nicotine (Patches)</th>\n",
       "      <th>Comorbidities: Nicotine (Recent Quit)</th>\n",
       "      <th>mJOA initial</th>\n",
       "      <th>mJOA 12 months</th>\n",
       "      <th>HRR</th>\n",
       "      <th>Recovery Class</th>\n",
       "    </tr>\n",
       "    <tr>\n",
       "      <th>GRP</th>\n",
       "      <th></th>\n",
       "      <th></th>\n",
       "      <th></th>\n",
       "      <th></th>\n",
       "      <th></th>\n",
       "      <th></th>\n",
       "      <th></th>\n",
       "      <th></th>\n",
       "      <th></th>\n",
       "      <th></th>\n",
       "      <th></th>\n",
       "      <th></th>\n",
       "      <th></th>\n",
       "      <th></th>\n",
       "      <th></th>\n",
       "      <th></th>\n",
       "      <th></th>\n",
       "      <th></th>\n",
       "      <th></th>\n",
       "      <th></th>\n",
       "      <th></th>\n",
       "    </tr>\n",
       "  </thead>\n",
       "  <tbody>\n",
       "    <tr>\n",
       "      <th>sub-cMRI10248</th>\n",
       "      <td>sag</td>\n",
       "      <td>T1w</td>\n",
       "      <td>NaN</td>\n",
       "      <td>62.83016422067748</td>\n",
       "      <td>67.9560399477234</td>\n",
       "      <td>69.8186205721783</td>\n",
       "      <td>61.21597180330931</td>\n",
       "      <td>48.864113498244045</td>\n",
       "      <td>39.35894384938024</td>\n",
       "      <td>1.2586593304437395</td>\n",
       "      <td>...</td>\n",
       "      <td>Employed but not working</td>\n",
       "      <td>NW</td>\n",
       "      <td>0.0</td>\n",
       "      <td>0.0</td>\n",
       "      <td>0.0</td>\n",
       "      <td>0.0</td>\n",
       "      <td>14.0</td>\n",
       "      <td>16.0</td>\n",
       "      <td>0.500000</td>\n",
       "      <td>good</td>\n",
       "    </tr>\n",
       "    <tr>\n",
       "      <th>sub-cMRI10248</th>\n",
       "      <td>sag</td>\n",
       "      <td>T2w</td>\n",
       "      <td>NaN</td>\n",
       "      <td>56.36806938741003</td>\n",
       "      <td>60.30258074779702</td>\n",
       "      <td>57.72132432172437</td>\n",
       "      <td>55.849618550948534</td>\n",
       "      <td>54.536389475785136</td>\n",
       "      <td>43.90694496696523</td>\n",
       "      <td>0.41266660718116077</td>\n",
       "      <td>...</td>\n",
       "      <td>Employed but not working</td>\n",
       "      <td>NW</td>\n",
       "      <td>0.0</td>\n",
       "      <td>0.0</td>\n",
       "      <td>0.0</td>\n",
       "      <td>0.0</td>\n",
       "      <td>14.0</td>\n",
       "      <td>16.0</td>\n",
       "      <td>0.500000</td>\n",
       "      <td>good</td>\n",
       "    </tr>\n",
       "    <tr>\n",
       "      <th>sub-cMRI10361</th>\n",
       "      <td>sag</td>\n",
       "      <td>T1w</td>\n",
       "      <td>NaN</td>\n",
       "      <td>74.01944258655115</td>\n",
       "      <td>74.64714645290408</td>\n",
       "      <td>72.21676277178518</td>\n",
       "      <td>73.94405009244882</td>\n",
       "      <td>65.66413641578889</td>\n",
       "      <td>62.225881990890855</td>\n",
       "      <td>3.635668549984042</td>\n",
       "      <td>...</td>\n",
       "      <td>*Currently working</td>\n",
       "      <td>W</td>\n",
       "      <td>0.0</td>\n",
       "      <td>0.0</td>\n",
       "      <td>0.0</td>\n",
       "      <td>0.0</td>\n",
       "      <td>11.0</td>\n",
       "      <td>14.0</td>\n",
       "      <td>0.428571</td>\n",
       "      <td>fair</td>\n",
       "    </tr>\n",
       "    <tr>\n",
       "      <th>sub-cMRI10361</th>\n",
       "      <td>sag</td>\n",
       "      <td>T2w</td>\n",
       "      <td>2.0</td>\n",
       "      <td>71.34129773534104</td>\n",
       "      <td>62.59972218647677</td>\n",
       "      <td>66.38362643528775</td>\n",
       "      <td>70.42225728402714</td>\n",
       "      <td>57.32548327684547</td>\n",
       "      <td>45.59413997298462</td>\n",
       "      <td>5.53957671045849</td>\n",
       "      <td>...</td>\n",
       "      <td>*Currently working</td>\n",
       "      <td>W</td>\n",
       "      <td>0.0</td>\n",
       "      <td>0.0</td>\n",
       "      <td>0.0</td>\n",
       "      <td>0.0</td>\n",
       "      <td>11.0</td>\n",
       "      <td>14.0</td>\n",
       "      <td>0.428571</td>\n",
       "      <td>fair</td>\n",
       "    </tr>\n",
       "    <tr>\n",
       "      <th>sub-cMRI10473</th>\n",
       "      <td>axial</td>\n",
       "      <td>T2w</td>\n",
       "      <td>2.0</td>\n",
       "      <td>50.51769101066976</td>\n",
       "      <td>53.295280906316265</td>\n",
       "      <td>51.23283609895412</td>\n",
       "      <td>53.61912613366745</td>\n",
       "      <td>49.167872327922154</td>\n",
       "      <td>40.894621886225856</td>\n",
       "      <td>0.6689603190519934</td>\n",
       "      <td>...</td>\n",
       "      <td>*Currently working</td>\n",
       "      <td>W</td>\n",
       "      <td>1.0</td>\n",
       "      <td>0.0</td>\n",
       "      <td>0.0</td>\n",
       "      <td>0.0</td>\n",
       "      <td>14.0</td>\n",
       "      <td>11.0</td>\n",
       "      <td>-0.750000</td>\n",
       "      <td>fair</td>\n",
       "    </tr>\n",
       "    <tr>\n",
       "      <th>...</th>\n",
       "      <td>...</td>\n",
       "      <td>...</td>\n",
       "      <td>...</td>\n",
       "      <td>...</td>\n",
       "      <td>...</td>\n",
       "      <td>...</td>\n",
       "      <td>...</td>\n",
       "      <td>...</td>\n",
       "      <td>...</td>\n",
       "      <td>...</td>\n",
       "      <td>...</td>\n",
       "      <td>...</td>\n",
       "      <td>...</td>\n",
       "      <td>...</td>\n",
       "      <td>...</td>\n",
       "      <td>...</td>\n",
       "      <td>...</td>\n",
       "      <td>...</td>\n",
       "      <td>...</td>\n",
       "      <td>...</td>\n",
       "      <td>...</td>\n",
       "    </tr>\n",
       "    <tr>\n",
       "      <th>sub-cMRI9884</th>\n",
       "      <td>sag</td>\n",
       "      <td>T2w</td>\n",
       "      <td>NaN</td>\n",
       "      <td>42.69559391157851</td>\n",
       "      <td>34.33745110847326</td>\n",
       "      <td>33.64007469753996</td>\n",
       "      <td>NaN</td>\n",
       "      <td>NaN</td>\n",
       "      <td>NaN</td>\n",
       "      <td>2.9112956107867145</td>\n",
       "      <td>...</td>\n",
       "      <td>Other</td>\n",
       "      <td>HSR</td>\n",
       "      <td>0.0</td>\n",
       "      <td>0.0</td>\n",
       "      <td>0.0</td>\n",
       "      <td>0.0</td>\n",
       "      <td>16.0</td>\n",
       "      <td>17.0</td>\n",
       "      <td>0.500000</td>\n",
       "      <td>good</td>\n",
       "    </tr>\n",
       "    <tr>\n",
       "      <th>sub-cMRI9907</th>\n",
       "      <td>axial</td>\n",
       "      <td>T2w</td>\n",
       "      <td>1.0</td>\n",
       "      <td>54.94456045773034</td>\n",
       "      <td>31.321494581665142</td>\n",
       "      <td>63.82868793430342</td>\n",
       "      <td>77.88388880225219</td>\n",
       "      <td>73.2764255456561</td>\n",
       "      <td>60.55970278133378</td>\n",
       "      <td>6.320454087347112</td>\n",
       "      <td>...</td>\n",
       "      <td>*Currently working</td>\n",
       "      <td>W</td>\n",
       "      <td>0.0</td>\n",
       "      <td>0.0</td>\n",
       "      <td>0.0</td>\n",
       "      <td>0.0</td>\n",
       "      <td>12.0</td>\n",
       "      <td>18.0</td>\n",
       "      <td>1.000000</td>\n",
       "      <td>good</td>\n",
       "    </tr>\n",
       "    <tr>\n",
       "      <th>sub-cMRI9907</th>\n",
       "      <td>sag</td>\n",
       "      <td>T1w</td>\n",
       "      <td>NaN</td>\n",
       "      <td>64.95568800002779</td>\n",
       "      <td>67.63331610461951</td>\n",
       "      <td>75.62896231983221</td>\n",
       "      <td>71.301980219314</td>\n",
       "      <td>60.54984336442122</td>\n",
       "      <td>51.09593560179294</td>\n",
       "      <td>6.434667543646018</td>\n",
       "      <td>...</td>\n",
       "      <td>*Currently working</td>\n",
       "      <td>W</td>\n",
       "      <td>0.0</td>\n",
       "      <td>0.0</td>\n",
       "      <td>0.0</td>\n",
       "      <td>0.0</td>\n",
       "      <td>12.0</td>\n",
       "      <td>18.0</td>\n",
       "      <td>1.000000</td>\n",
       "      <td>good</td>\n",
       "    </tr>\n",
       "    <tr>\n",
       "      <th>sub-cMRI9907</th>\n",
       "      <td>sag</td>\n",
       "      <td>T2w</td>\n",
       "      <td>NaN</td>\n",
       "      <td>77.64985036927119</td>\n",
       "      <td>56.22202873614792</td>\n",
       "      <td>59.11907313804921</td>\n",
       "      <td>75.06514339324212</td>\n",
       "      <td>73.50642836698945</td>\n",
       "      <td>64.07855113537731</td>\n",
       "      <td>3.5002546049239776</td>\n",
       "      <td>...</td>\n",
       "      <td>*Currently working</td>\n",
       "      <td>W</td>\n",
       "      <td>0.0</td>\n",
       "      <td>0.0</td>\n",
       "      <td>0.0</td>\n",
       "      <td>0.0</td>\n",
       "      <td>12.0</td>\n",
       "      <td>18.0</td>\n",
       "      <td>1.000000</td>\n",
       "      <td>good</td>\n",
       "    </tr>\n",
       "    <tr>\n",
       "      <th>sub-cMRI9909</th>\n",
       "      <td>sag</td>\n",
       "      <td>T2w</td>\n",
       "      <td>NaN</td>\n",
       "      <td>64.00574789944484</td>\n",
       "      <td>56.02846955590967</td>\n",
       "      <td>56.67080755028201</td>\n",
       "      <td>56.032535797761476</td>\n",
       "      <td>55.68735719073922</td>\n",
       "      <td>52.29780660767251</td>\n",
       "      <td>2.6048633635109244</td>\n",
       "      <td>...</td>\n",
       "      <td>Not employed</td>\n",
       "      <td>NW</td>\n",
       "      <td>1.0</td>\n",
       "      <td>0.0</td>\n",
       "      <td>0.0</td>\n",
       "      <td>0.0</td>\n",
       "      <td>14.0</td>\n",
       "      <td>15.0</td>\n",
       "      <td>0.250000</td>\n",
       "      <td>fair</td>\n",
       "    </tr>\n",
       "  </tbody>\n",
       "</table>\n",
       "<p>736 rows × 237 columns</p>\n",
       "</div>"
      ],
      "text/plain": [
       "                 acq weight  run    MEAN(area) [V2]     MEAN(area) [V3]  \\\n",
       "GRP                                                                       \n",
       "sub-cMRI10248    sag    T1w  NaN  62.83016422067748    67.9560399477234   \n",
       "sub-cMRI10248    sag    T2w  NaN  56.36806938741003   60.30258074779702   \n",
       "sub-cMRI10361    sag    T1w  NaN  74.01944258655115   74.64714645290408   \n",
       "sub-cMRI10361    sag    T2w  2.0  71.34129773534104   62.59972218647677   \n",
       "sub-cMRI10473  axial    T2w  2.0  50.51769101066976  53.295280906316265   \n",
       "...              ...    ...  ...                ...                 ...   \n",
       "sub-cMRI9884     sag    T2w  NaN  42.69559391157851   34.33745110847326   \n",
       "sub-cMRI9907   axial    T2w  1.0  54.94456045773034  31.321494581665142   \n",
       "sub-cMRI9907     sag    T1w  NaN  64.95568800002779   67.63331610461951   \n",
       "sub-cMRI9907     sag    T2w  NaN  77.64985036927119   56.22202873614792   \n",
       "sub-cMRI9909     sag    T2w  NaN  64.00574789944484   56.02846955590967   \n",
       "\n",
       "                 MEAN(area) [V4]     MEAN(area) [V5]     MEAN(area) [V6]  \\\n",
       "GRP                                                                        \n",
       "sub-cMRI10248   69.8186205721783   61.21597180330931  48.864113498244045   \n",
       "sub-cMRI10248  57.72132432172437  55.849618550948534  54.536389475785136   \n",
       "sub-cMRI10361  72.21676277178518   73.94405009244882   65.66413641578889   \n",
       "sub-cMRI10361  66.38362643528775   70.42225728402714   57.32548327684547   \n",
       "sub-cMRI10473  51.23283609895412   53.61912613366745  49.167872327922154   \n",
       "...                          ...                 ...                 ...   \n",
       "sub-cMRI9884   33.64007469753996                 NaN                 NaN   \n",
       "sub-cMRI9907   63.82868793430342   77.88388880225219    73.2764255456561   \n",
       "sub-cMRI9907   75.62896231983221     71.301980219314   60.54984336442122   \n",
       "sub-cMRI9907   59.11907313804921   75.06514339324212   73.50642836698945   \n",
       "sub-cMRI9909   56.67080755028201  56.032535797761476   55.68735719073922   \n",
       "\n",
       "                  MEAN(area) [V7]       STD(area) [V2]  ...  \\\n",
       "GRP                                                     ...   \n",
       "sub-cMRI10248   39.35894384938024   1.2586593304437395  ...   \n",
       "sub-cMRI10248   43.90694496696523  0.41266660718116077  ...   \n",
       "sub-cMRI10361  62.225881990890855    3.635668549984042  ...   \n",
       "sub-cMRI10361   45.59413997298462     5.53957671045849  ...   \n",
       "sub-cMRI10473  40.894621886225856   0.6689603190519934  ...   \n",
       "...                           ...                  ...  ...   \n",
       "sub-cMRI9884                  NaN   2.9112956107867145  ...   \n",
       "sub-cMRI9907    60.55970278133378    6.320454087347112  ...   \n",
       "sub-cMRI9907    51.09593560179294    6.434667543646018  ...   \n",
       "sub-cMRI9907    64.07855113537731   3.5002546049239776  ...   \n",
       "sub-cMRI9909    52.29780660767251   2.6048633635109244  ...   \n",
       "\n",
       "                            Work Status Work Status (Category)  \\\n",
       "GRP                                                              \n",
       "sub-cMRI10248  Employed but not working                     NW   \n",
       "sub-cMRI10248  Employed but not working                     NW   \n",
       "sub-cMRI10361        *Currently working                      W   \n",
       "sub-cMRI10361        *Currently working                      W   \n",
       "sub-cMRI10473        *Currently working                      W   \n",
       "...                                 ...                    ...   \n",
       "sub-cMRI9884                      Other                    HSR   \n",
       "sub-cMRI9907         *Currently working                      W   \n",
       "sub-cMRI9907         *Currently working                      W   \n",
       "sub-cMRI9907         *Currently working                      W   \n",
       "sub-cMRI9909               Not employed                     NW   \n",
       "\n",
       "              Comorbidities: Nicotine (Smoking)  \\\n",
       "GRP                                               \n",
       "sub-cMRI10248                               0.0   \n",
       "sub-cMRI10248                               0.0   \n",
       "sub-cMRI10361                               0.0   \n",
       "sub-cMRI10361                               0.0   \n",
       "sub-cMRI10473                               1.0   \n",
       "...                                         ...   \n",
       "sub-cMRI9884                                0.0   \n",
       "sub-cMRI9907                                0.0   \n",
       "sub-cMRI9907                                0.0   \n",
       "sub-cMRI9907                                0.0   \n",
       "sub-cMRI9909                                1.0   \n",
       "\n",
       "              Comorbidities: Nicotine (Smokeless)  \\\n",
       "GRP                                                 \n",
       "sub-cMRI10248                                 0.0   \n",
       "sub-cMRI10248                                 0.0   \n",
       "sub-cMRI10361                                 0.0   \n",
       "sub-cMRI10361                                 0.0   \n",
       "sub-cMRI10473                                 0.0   \n",
       "...                                           ...   \n",
       "sub-cMRI9884                                  0.0   \n",
       "sub-cMRI9907                                  0.0   \n",
       "sub-cMRI9907                                  0.0   \n",
       "sub-cMRI9907                                  0.0   \n",
       "sub-cMRI9909                                  0.0   \n",
       "\n",
       "              Comorbidities: Nicotine (Patches)  \\\n",
       "GRP                                               \n",
       "sub-cMRI10248                               0.0   \n",
       "sub-cMRI10248                               0.0   \n",
       "sub-cMRI10361                               0.0   \n",
       "sub-cMRI10361                               0.0   \n",
       "sub-cMRI10473                               0.0   \n",
       "...                                         ...   \n",
       "sub-cMRI9884                                0.0   \n",
       "sub-cMRI9907                                0.0   \n",
       "sub-cMRI9907                                0.0   \n",
       "sub-cMRI9907                                0.0   \n",
       "sub-cMRI9909                                0.0   \n",
       "\n",
       "              Comorbidities: Nicotine (Recent Quit) mJOA initial  \\\n",
       "GRP                                                                \n",
       "sub-cMRI10248                                   0.0         14.0   \n",
       "sub-cMRI10248                                   0.0         14.0   \n",
       "sub-cMRI10361                                   0.0         11.0   \n",
       "sub-cMRI10361                                   0.0         11.0   \n",
       "sub-cMRI10473                                   0.0         14.0   \n",
       "...                                             ...          ...   \n",
       "sub-cMRI9884                                    0.0         16.0   \n",
       "sub-cMRI9907                                    0.0         12.0   \n",
       "sub-cMRI9907                                    0.0         12.0   \n",
       "sub-cMRI9907                                    0.0         12.0   \n",
       "sub-cMRI9909                                    0.0         14.0   \n",
       "\n",
       "              mJOA 12 months       HRR Recovery Class  \n",
       "GRP                                                    \n",
       "sub-cMRI10248           16.0  0.500000           good  \n",
       "sub-cMRI10248           16.0  0.500000           good  \n",
       "sub-cMRI10361           14.0  0.428571           fair  \n",
       "sub-cMRI10361           14.0  0.428571           fair  \n",
       "sub-cMRI10473           11.0 -0.750000           fair  \n",
       "...                      ...       ...            ...  \n",
       "sub-cMRI9884            17.0  0.500000           good  \n",
       "sub-cMRI9907            18.0  1.000000           good  \n",
       "sub-cMRI9907            18.0  1.000000           good  \n",
       "sub-cMRI9907            18.0  1.000000           good  \n",
       "sub-cMRI9909            15.0  0.250000           fair  \n",
       "\n",
       "[736 rows x 237 columns]"
      ]
     },
     "execution_count": 18,
     "metadata": {},
     "output_type": "execute_result"
    }
   ],
   "source": [
    "final_df"
   ]
  },
  {
   "cell_type": "markdown",
   "id": "23ccb70cf2708233",
   "metadata": {},
   "source": [
    "## Redundant run deletion"
   ]
  },
  {
   "cell_type": "markdown",
   "id": "b1e6b53c8d8edcf9",
   "metadata": {},
   "source": [
    "Keep only the last run of each entry remaining to avoid redundancy"
   ]
  },
  {
   "cell_type": "code",
   "execution_count": 19,
   "id": "4d76a91114f83d94",
   "metadata": {},
   "outputs": [
    {
     "data": {
      "text/plain": [
       "(626, 234)"
      ]
     },
     "execution_count": 19,
     "metadata": {},
     "output_type": "execute_result"
    }
   ],
   "source": [
    "final_df = final_df.sort_values('run').groupby(['GRP', 'acq', 'weight']).last()\n",
    "final_df = final_df.drop(columns=['run'])\n",
    "final_df.shape"
   ]
  },
  {
   "cell_type": "markdown",
   "id": "103f0a9ec03bc3ac",
   "metadata": {},
   "source": [
    "## Stratification"
   ]
  },
  {
   "cell_type": "markdown",
   "id": "ab0d3554-f939-421a-9d81-b4f4a04d1c8c",
   "metadata": {},
   "source": [
    "Initial stratification"
   ]
  },
  {
   "cell_type": "code",
   "execution_count": 20,
   "id": "5f10588974001144",
   "metadata": {},
   "outputs": [],
   "source": [
    "df_map = dict()\n",
    "for idx, df in final_df.reset_index().groupby(['acq', 'weight']):\n",
    "    # If there are less than 50 samples, just skip\n",
    "    if df.shape[0] < 50:\n",
    "        continue\n",
    "    # Otherwise, save the result to a spreadsheet for further use\n",
    "    df_label = '_'.join(idx)\n",
    "    df_map[df_label] = df"
   ]
  },
  {
   "cell_type": "markdown",
   "id": "99222f8e-57a2-4686-9438-26baa240346e",
   "metadata": {
    "ExecuteTime": {
     "end_time": "2024-11-30T01:31:06.566518Z",
     "start_time": "2024-11-30T01:31:06.565314Z"
    }
   },
   "source": [
    "Full datasets"
   ]
  },
  {
   "cell_type": "code",
   "execution_count": 21,
   "id": "832889aa-4e3b-40ec-9cb1-e738c8943973",
   "metadata": {},
   "outputs": [],
   "source": [
    "for k, df, in df_map.items():\n",
    "    file_out = f\"full_{k}.tsv\"\n",
    "    df.set_index('GRP').to_csv(file_out, sep='\\t')"
   ]
  },
  {
   "cell_type": "markdown",
   "id": "0d406671-b5d4-4453-87a3-a990787a0014",
   "metadata": {},
   "source": [
    "Imaging metrics only"
   ]
  },
  {
   "cell_type": "code",
   "execution_count": 22,
   "id": "16daba58-abb1-44b4-91eb-a272b7fec405",
   "metadata": {},
   "outputs": [],
   "source": [
    "img_cols = list(img_df.drop(columns=['run']).columns)\n",
    "img_cols.extend(['GRP', 'Recovery Class'])\n",
    "\n",
    "for k, df, in df_map.items():\n",
    "    file_out = f\"img_only_{k}.tsv\"\n",
    "    sub_df = df.loc[:, img_cols]\n",
    "    sub_df.set_index('GRP').to_csv(file_out, sep='\\t')"
   ]
  },
  {
   "cell_type": "code",
   "execution_count": null,
   "id": "7296190e-2eb1-4b42-9522-e057a433bb43",
   "metadata": {},
   "outputs": [],
   "source": []
  }
 ],
 "metadata": {
  "kernelspec": {
   "display_name": "Python 3 (ipykernel)",
   "language": "python",
   "name": "python3"
  },
  "language_info": {
   "codemirror_mode": {
    "name": "ipython",
    "version": 3
   },
   "file_extension": ".py",
   "mimetype": "text/x-python",
   "name": "python",
   "nbconvert_exporter": "python",
   "pygments_lexer": "ipython3",
   "version": "3.11.10"
  }
 },
 "nbformat": 4,
 "nbformat_minor": 5
}
