{
 "cells": [
  {
   "cell_type": "markdown",
   "id": "7102f4be5cdc44f3",
   "metadata": {},
   "source": [
    "# Setup"
   ]
  },
  {
   "cell_type": "code",
   "id": "97b2ca00f2859c1d",
   "metadata": {},
   "source": [
    "import numpy as np\n",
    "import pandas as pd"
   ],
   "outputs": [],
   "execution_count": null
  },
  {
   "cell_type": "markdown",
   "id": "74f8c8ceefab66d8",
   "metadata": {},
   "source": "# Data Preparation"
  },
  {
   "cell_type": "markdown",
   "id": "519c26a808ccd60f",
   "metadata": {},
   "source": "## Data Loading"
  },
  {
   "cell_type": "markdown",
   "id": "643a54a688eacfdd",
   "metadata": {},
   "source": [
    "Grab the participants data; uncomment to run, it can be quite time consuming"
   ]
  },
  {
   "cell_type": "code",
   "id": "95d110a7201170b9",
   "metadata": {},
   "source": [
    "# %%bash\n",
    "\n",
    "# cp \"/work/cadotte_lab/bids_cmri/participants.tsv\" \"./participants.tsv\""
   ],
   "outputs": [],
   "execution_count": null
  },
  {
   "cell_type": "markdown",
   "id": "3bcc6ab341cf5f98",
   "metadata": {},
   "source": [
    "Load the data with pandas, setting patient GRP as the index"
   ]
  },
  {
   "cell_type": "code",
   "id": "21756f9eba4c677",
   "metadata": {},
   "source": [
    "participants_df = pd.read_csv('participants.tsv', sep='\\t')\n",
    "participants_df = participants_df.set_index('GRP')\n",
    "participants_df.shape"
   ],
   "outputs": [],
   "execution_count": null
  },
  {
   "cell_type": "markdown",
   "id": "561a09595f88c489",
   "metadata": {},
   "source": [
    "## mJOA Cleanup"
   ]
  },
  {
   "cell_type": "markdown",
   "id": "31f8201264a6bc1c",
   "metadata": {},
   "source": [
    "Isolate the initial and 1-year mJOA metrics so they are not deleted by mistake "
   ]
  },
  {
   "cell_type": "code",
   "id": "76e3bf5cc1fd75d9",
   "metadata": {},
   "source": [
    "mjoa_cols = [\n",
    "    \"('mJOA', 'initial')\",\n",
    "    \"('mJOA', '12 months')\",\n",
    "    \"('mJOA; Total [CSA]', 'initial')\",\n",
    "    \"('mJOA; Total [CSA]', '12 months')\"\n",
    "]\n",
    "mjoa_df = participants_df.loc[:, mjoa_cols]"
   ],
   "outputs": [],
   "execution_count": null
  },
  {
   "cell_type": "markdown",
   "id": "b9bce0b275218ea5",
   "metadata": {},
   "source": "Transfer the CSA dataset's values into the original's when there is not an original value to go off of"
  },
  {
   "cell_type": "code",
   "id": "675f1033754c18cc",
   "metadata": {},
   "source": [
    "missing_idx = mjoa_df.loc[:, \"('mJOA', 'initial')\"].isna()\n",
    "print(f\"Before: {np.sum(missing_idx)}\")\n",
    "mjoa_df.loc[missing_idx, \"('mJOA', 'initial')\"] = mjoa_df.loc[missing_idx, \"('mJOA; Total [CSA]', 'initial')\"]\n",
    "missing_idx = mjoa_df.loc[:, \"('mJOA', 'initial')\"].isna()\n",
    "print(f\"After: {np.sum(missing_idx)}\")"
   ],
   "outputs": [],
   "execution_count": null
  },
  {
   "cell_type": "code",
   "id": "ac43f07059ce527e",
   "metadata": {},
   "source": [
    "missing_idx = mjoa_df.loc[:, \"('mJOA', '12 months')\"].isna()\n",
    "print(f\"Before: {np.sum(missing_idx)}\")\n",
    "mjoa_df.loc[missing_idx, \"('mJOA', '12 months')\"] = mjoa_df.loc[missing_idx, \"('mJOA; Total [CSA]', '12 months')\"]\n",
    "missing_idx = mjoa_df.loc[:, \"('mJOA', '12 months')\"].isna()\n",
    "print(f\"After: {np.sum(missing_idx)}\")"
   ],
   "outputs": [],
   "execution_count": null
  },
  {
   "metadata": {},
   "cell_type": "code",
   "source": "mjoa_df.shape",
   "id": "dd89818e70fa9a7f",
   "outputs": [],
   "execution_count": null
  },
  {
   "cell_type": "markdown",
   "id": "ee6187e460cdad65",
   "metadata": {},
   "source": [
    "Drop the (now redundant) columns in both datasets"
   ]
  },
  {
   "cell_type": "code",
   "id": "aed55304f43a2e7b",
   "metadata": {},
   "source": [
    "mjoa_df = mjoa_df.drop([\"('mJOA; Total [CSA]', 'initial')\", \"('mJOA; Total [CSA]', '12 months')\"], axis=1)\n",
    "participants_df = participants_df.drop(mjoa_cols, axis=1)"
   ],
   "outputs": [],
   "execution_count": null
  },
  {
   "cell_type": "markdown",
   "id": "3e78c230dab0892e",
   "metadata": {},
   "source": [
    "## Timepoint isolation"
   ]
  },
  {
   "cell_type": "markdown",
   "id": "c699fada1bba5aa0",
   "metadata": {},
   "source": [
    "Isolate data w/o a timepoint before proceeding"
   ]
  },
  {
   "cell_type": "code",
   "id": "86da1c8c51b26260",
   "metadata": {},
   "source": [
    "non_timed = participants_df.iloc[:, -20:]\n",
    "timed = participants_df.drop(non_timed.columns, axis=1)"
   ],
   "outputs": [],
   "execution_count": null
  },
  {
   "metadata": {},
   "cell_type": "code",
   "source": "non_timed.shape",
   "id": "5071cac30d97ecff",
   "outputs": [],
   "execution_count": null
  },
  {
   "metadata": {},
   "cell_type": "code",
   "source": "timed.shape",
   "id": "d1de37d95d3dcc51",
   "outputs": [],
   "execution_count": null
  },
  {
   "cell_type": "markdown",
   "id": "a380580294f92382",
   "metadata": {},
   "source": "Only keep values w/ an initial time point; only mJOA is needed after 1 year, as it's the only value important to calculating the target, and it was handled during mJOA parsing prior."
  },
  {
   "cell_type": "code",
   "id": "a4ea96eb00fd0538",
   "metadata": {},
   "source": [
    "keep_cols = []\n",
    "for c in timed.columns:\n",
    "    if c.split(',')[1] == \" 'initial')\":\n",
    "        keep_cols.append(c)\n",
    "\n",
    "cleaned_participants_df = participants_df.loc[:, keep_cols]\n",
    "cleaned_participants_df.loc[:, non_timed.columns] = non_timed\n",
    "cleaned_participants_df.shape"
   ],
   "outputs": [],
   "execution_count": null
  },
  {
   "cell_type": "markdown",
   "id": "fb554bbc547132f0",
   "metadata": {},
   "source": [
    "Drop redundant columns in the dataset"
   ]
  },
  {
   "cell_type": "code",
   "id": "31e661ee49ec5e2a",
   "metadata": {},
   "source": [
    "cleaned_participants_df = cleaned_participants_df.drop(columns=[\"('Surgical', 'initial')\", \"('BMI', 'initial')\"])\n",
    "cleaned_participants_df.shape"
   ],
   "outputs": [],
   "execution_count": null
  },
  {
   "cell_type": "markdown",
   "id": "a2907f16e431356d",
   "metadata": {},
   "source": [
    "Reformat column headers to be cleaner, namely by removing the (now redundant) time point"
   ]
  },
  {
   "cell_type": "code",
   "id": "2f0241a517d1484d",
   "metadata": {},
   "source": [
    "cols = [c.replace(\"'initial'\", \"\") for c in cleaned_participants_df.columns]\n",
    "cleaned_participants_df.columns = cols\n",
    "cleaned_participants_df.shape"
   ],
   "outputs": [],
   "execution_count": null
  },
  {
   "cell_type": "markdown",
   "id": "9eacaf2e7faba51d",
   "metadata": {},
   "source": [
    "## EQ5D Unusual Null Value Correction"
   ]
  },
  {
   "cell_type": "markdown",
   "id": "1e6162a983815247",
   "metadata": {},
   "source": [
    "EQ5D occasionally uses the value of `4` to indicate a null value for some reason"
   ]
  },
  {
   "cell_type": "code",
   "id": "eb73a9cb11bc7ea4",
   "metadata": {},
   "source": [
    "for c in cleaned_participants_df.columns:\n",
    "    if 'EQ5D' in c:\n",
    "        cleaned_participants_df.loc[cleaned_participants_df[c] == 4, c] = np.nan"
   ],
   "outputs": [],
   "execution_count": null
  },
  {
   "cell_type": "markdown",
   "id": "e575382a-3ade-429d-9054-7dd9a53de146",
   "metadata": {},
   "source": [
    "## Erroneous BMI Correction"
   ]
  },
  {
   "cell_type": "code",
   "id": "c491e34f-bfdf-4131-96f5-69574ebf7a1c",
   "metadata": {},
   "source": [
    "cleaned_participants_df.loc[cleaned_participants_df['BMI'] == 0, 'BMI'] = np.nan"
   ],
   "outputs": [],
   "execution_count": null
  },
  {
   "cell_type": "markdown",
   "id": "d7925bf9b1ddd364",
   "metadata": {},
   "source": [
    "## Consolidation and Clean-Up"
   ]
  },
  {
   "cell_type": "markdown",
   "id": "7a805d44ad4c16d4",
   "metadata": {},
   "source": [
    "Add back in the mJOA metrics"
   ]
  },
  {
   "cell_type": "code",
   "id": "b7db16c5426a6c18",
   "metadata": {},
   "source": [
    "final_participants_df = cleaned_participants_df.copy()\n",
    "final_participants_df.loc[:, mjoa_df.columns] = mjoa_df\n",
    "final_participants_df.shape"
   ],
   "outputs": [],
   "execution_count": null
  },
  {
   "cell_type": "markdown",
   "id": "73bbac4c5cb15e31",
   "metadata": {},
   "source": [
    "Format the column headers to be cleaner by removing characters which could cause issues with common storage methodologies (namely CSV, TSV, and SQL formats)"
   ]
  },
  {
   "cell_type": "code",
   "id": "9e77cf48aadfa150",
   "metadata": {},
   "source": [
    "cols = [c.replace(\"'\", \"\").replace(\",\", \"\").replace(\" )\", \")\") for c in final_participants_df.columns]\n",
    "cols = [c[1:-1] if c[0] == \"(\" and c[-1] == \")\" else c for c in cols]\n",
    "final_participants_df.columns = cols\n",
    "final_participants_df.columns"
   ],
   "outputs": [],
   "execution_count": null
  },
  {
   "cell_type": "markdown",
   "id": "c5487ef8ea4b8108",
   "metadata": {},
   "source": [
    "Calculate the Hirabayashi Recovery Ratio (HRR) and whether it is a significant improvement or not (HRR >= 0.5)"
   ]
  },
  {
   "cell_type": "code",
   "id": "3aa25ffc98edb213",
   "metadata": {},
   "source": [
    "def hrr(mjoa_init, mjoa_1year):\n",
    "    numerator = mjoa_1year - mjoa_init\n",
    "    denominator = 18 - mjoa_init\n",
    "    return numerator / denominator"
   ],
   "outputs": [],
   "execution_count": null
  },
  {
   "cell_type": "code",
   "id": "78927502c11ad35a",
   "metadata": {},
   "source": [
    "hrr_vals = hrr(final_participants_df['mJOA initial'], final_participants_df['mJOA 12 months'])\n",
    "final_participants_df['HRR'] = hrr_vals\n",
    "final_participants_df['Recovery Class'] = ['good' if v >= 0.5 else \"fair\" for v in hrr_vals]\n",
    "final_participants_df.loc[pd.isna(hrr_vals), 'Recovery Class'] = np.nan\n",
    "final_participants_df = final_participants_df.dropna(subset=['Recovery Class'])\n",
    "final_participants_df.shape"
   ],
   "outputs": [],
   "execution_count": null
  },
  {
   "cell_type": "markdown",
   "id": "59bdf35b-68fc-47bc-accb-7559db940af4",
   "metadata": {},
   "source": [
    "Drop any patients which did not undergo surgical treatment"
   ]
  },
  {
   "cell_type": "code",
   "id": "9fb261a6-68a3-415e-bbef-80feaf6353d2",
   "metadata": {},
   "source": [
    "final_participants_df = final_participants_df.loc[final_participants_df['Surgical'] == 1, :]\n",
    "final_participants_df.shape"
   ],
   "outputs": [],
   "execution_count": null
  },
  {
   "cell_type": "markdown",
   "id": "745fe63a-4b5b-4239-96ab-01986c312def",
   "metadata": {},
   "source": [
    "Save the results on their own for isolated ML model testing"
   ]
  },
  {
   "cell_type": "code",
   "id": "a3b7e6da-0e29-4502-a674-15a194d34081",
   "metadata": {},
   "source": "final_participants_df.to_csv('participants_cleaned.tsv', sep='\\t')",
   "outputs": [],
   "execution_count": null
  }
 ],
 "metadata": {
  "kernelspec": {
   "display_name": "Python 3 (ipykernel)",
   "language": "python",
   "name": "python3"
  },
  "language_info": {
   "codemirror_mode": {
    "name": "ipython",
    "version": 3
   },
   "file_extension": ".py",
   "mimetype": "text/x-python",
   "name": "python",
   "nbconvert_exporter": "python",
   "pygments_lexer": "ipython3",
   "version": "3.12.7"
  }
 },
 "nbformat": 4,
 "nbformat_minor": 5
}
