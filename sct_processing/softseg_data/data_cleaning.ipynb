{
 "cells": [
  {
   "cell_type": "markdown",
   "id": "7102f4be5cdc44f3",
   "metadata": {},
   "source": [
    "# Setup"
   ]
  },
  {
   "cell_type": "code",
   "execution_count": null,
   "id": "97b2ca00f2859c1d",
   "metadata": {
    "ExecuteTime": {
     "end_time": "2024-11-30T01:31:01.640215Z",
     "start_time": "2024-11-30T01:31:01.638241Z"
    }
   },
   "outputs": [],
   "source": [
    "import numpy as np\n",
    "import pandas as pd"
   ]
  },
  {
   "cell_type": "markdown",
   "id": "c2482bf5c194e5c4",
   "metadata": {},
   "source": [
    "# Imaging Data"
   ]
  },
  {
   "cell_type": "markdown",
   "id": "6fbb985a63be671d",
   "metadata": {},
   "source": [
    "## Data Concatenation"
   ]
  },
  {
   "cell_type": "markdown",
   "id": "3807229e6fc0c444",
   "metadata": {},
   "source": [
    "Grab and append the results of every sample which ran to completion into one file (uncomment to run; it can be quite expensive)"
   ]
  },
  {
   "cell_type": "code",
   "execution_count": null,
   "id": "baf5be2caf9c82cd",
   "metadata": {},
   "outputs": [],
   "source": [
    "# %%bash\n",
    "#\n",
    "# cat /work/cadotte_lab/bids_cmri/derivatives/sct_6.5/*/*/softseg_vertebrae_metrics.csv > \"full_metrics_softseg.csv\""
   ]
  },
  {
   "cell_type": "code",
   "execution_count": null,
   "id": "8bddd12481401349",
   "metadata": {},
   "outputs": [],
   "source": [
    "softseg_df = pd.read_csv(\"full_metrics_softseg.csv\")"
   ]
  },
  {
   "cell_type": "markdown",
   "id": "dd908127f7d6c91f",
   "metadata": {},
   "source": [
    "Remove the duplicate headers introduced via this process"
   ]
  },
  {
   "cell_type": "code",
   "execution_count": null,
   "id": "d13207c1ae382b94",
   "metadata": {
    "ExecuteTime": {
     "end_time": "2024-11-30T01:31:01.758560Z",
     "start_time": "2024-11-30T01:31:01.756805Z"
    }
   },
   "outputs": [],
   "source": [
    "def remove_dup_headers(df):\n",
    "    df = df.loc[df.loc[:, \"Timestamp\"] != \"Timestamp\", :]\n",
    "    return df"
   ]
  },
  {
   "cell_type": "code",
   "execution_count": null,
   "id": "f23abcc5516a7",
   "metadata": {
    "ExecuteTime": {
     "end_time": "2024-11-30T01:31:01.802548Z",
     "start_time": "2024-11-30T01:31:01.798656Z"
    }
   },
   "outputs": [],
   "source": [
    "softseg_df = remove_dup_headers(softseg_df)"
   ]
  },
  {
   "cell_type": "markdown",
   "id": "262aac8fbeaf8401",
   "metadata": {},
   "source": [
    "## Indexing by Image Type"
   ]
  },
  {
   "cell_type": "code",
   "execution_count": null,
   "id": "23d0311d94da6630",
   "metadata": {
    "ExecuteTime": {
     "end_time": "2024-11-30T01:31:01.845619Z",
     "start_time": "2024-11-30T01:31:01.842910Z"
    }
   },
   "outputs": [],
   "source": [
    "def parse_filenames(df):\n",
    "    # Get the root file names out of the paths in the dataset\n",
    "    file_names = [f.split('/')[-1] for f in df['Filename']]\n",
    "\n",
    "    # Split them into their notable components\n",
    "    file_components = [f.split('_') for f in file_names]\n",
    "\n",
    "    # Grab the patient ID from the components\n",
    "    patient_ids = [f[0] for f in file_components]\n",
    "\n",
    "    # Grab the orientation (acquisition type) from the components\n",
    "    acqs = [f[1].split('-')[1] for f in file_components]\n",
    "\n",
    "    # Get the contrast type of the image from the file components\n",
    "    contrasts = [f[-2] for f in file_components]\n",
    "\n",
    "    # Get the run number, if one exists, from the file components\n",
    "    runs = [int(f[-3].split('-')[1]) if \"run\" in f[-3] else None for f in file_components]\n",
    "    \n",
    "    idx = pd.MultiIndex.from_tuples(\n",
    "        zip(patient_ids, acqs, contrasts, runs, df['VertLevel']),\n",
    "        names=['GRP', 'acq', 'weight', 'run', 'vert_level']\n",
    "    )\n",
    "    return idx"
   ]
  },
  {
   "cell_type": "code",
   "execution_count": null,
   "id": "ab37c6c32133f134",
   "metadata": {
    "ExecuteTime": {
     "end_time": "2024-11-30T01:31:01.958637Z",
     "start_time": "2024-11-30T01:31:01.892595Z"
    }
   },
   "outputs": [],
   "source": [
    "softseg_df_idx = parse_filenames(softseg_df)\n",
    "softseg_df.index = softseg_df_idx\n",
    "softseg_df[0:10]"
   ]
  },
  {
   "cell_type": "markdown",
   "id": "666ddf975658969a",
   "metadata": {},
   "source": [
    "## Redundant Feature Purge"
   ]
  },
  {
   "cell_type": "markdown",
   "id": "c6c6582353cc8df4",
   "metadata": {},
   "source": [
    "Drop a number of metadata/irrelevant features before proceeding"
   ]
  },
  {
   "cell_type": "code",
   "execution_count": null,
   "id": "b21c77692f04daa6",
   "metadata": {
    "ExecuteTime": {
     "end_time": "2024-11-30T01:31:02.013292Z",
     "start_time": "2024-11-30T01:31:02.011784Z"
    }
   },
   "outputs": [],
   "source": [
    "to_drop = ['Timestamp', 'SCT Version', 'Filename', 'Slice (I->S)', 'VertLevel', 'DistancePMJ']"
   ]
  },
  {
   "cell_type": "code",
   "execution_count": null,
   "id": "7f78780f845c8264",
   "metadata": {
    "ExecuteTime": {
     "end_time": "2024-11-30T01:31:02.052393Z",
     "start_time": "2024-11-30T01:31:02.049526Z"
    }
   },
   "outputs": [],
   "source": [
    "softseg_df = softseg_df.drop(to_drop, axis=1)"
   ]
  },
  {
   "cell_type": "markdown",
   "id": "74757ede2c8d3e48",
   "metadata": {},
   "source": [
    "## Vertebrae as Feature"
   ]
  },
  {
   "cell_type": "code",
   "execution_count": null,
   "id": "6cb601fc96edb46f",
   "metadata": {
    "ExecuteTime": {
     "end_time": "2024-11-30T01:31:02.087438Z",
     "start_time": "2024-11-30T01:31:02.085502Z"
    }
   },
   "outputs": [],
   "source": [
    "def pivot_vertebrae(df):\n",
    "    return df.unstack(level=\"vert_level\")"
   ]
  },
  {
   "cell_type": "code",
   "execution_count": null,
   "id": "735ddce914eb10e0",
   "metadata": {
    "ExecuteTime": {
     "end_time": "2024-11-30T01:31:02.170311Z",
     "start_time": "2024-11-30T01:31:02.157187Z"
    }
   },
   "outputs": [],
   "source": [
    "softseg_df = pivot_vertebrae(softseg_df)\n",
    "softseg_df.iloc[:10, :]"
   ]
  },
  {
   "cell_type": "markdown",
   "id": "cef88c1b0ee2dfd",
   "metadata": {},
   "source": [
    "## Column and Index Reformatting"
   ]
  },
  {
   "cell_type": "markdown",
   "id": "4aa1d9fcd974088e",
   "metadata": {},
   "source": [
    "Stack the columns so they aren't a multi-index (which can cause major headaches in ML analysis)"
   ]
  },
  {
   "cell_type": "code",
   "execution_count": null,
   "id": "63cdbd239e4564cc",
   "metadata": {
    "ExecuteTime": {
     "end_time": "2024-11-30T01:31:02.227224Z",
     "start_time": "2024-11-30T01:31:02.225653Z"
    }
   },
   "outputs": [],
   "source": [
    "def stack_columns(df):\n",
    "    new_cols = [f\"{c[0]} [V{c[1]}]\" for c in df.columns]\n",
    "    df.columns = new_cols\n",
    "    return df"
   ]
  },
  {
   "cell_type": "code",
   "execution_count": null,
   "id": "50acf8f128e28f2d",
   "metadata": {
    "ExecuteTime": {
     "end_time": "2024-11-30T01:31:02.271317Z",
     "start_time": "2024-11-30T01:31:02.260703Z"
    }
   },
   "outputs": [],
   "source": [
    "stack_columns(softseg_df)"
   ]
  },
  {
   "cell_type": "markdown",
   "id": "73501598a597d96b",
   "metadata": {},
   "source": [
    "Unstack everything except GRP so that it is a \"feature\" during data combination"
   ]
  },
  {
   "cell_type": "code",
   "execution_count": null,
   "id": "4164ac29af214727",
   "metadata": {
    "ExecuteTime": {
     "end_time": "2024-11-30T01:31:02.340983Z",
     "start_time": "2024-11-30T01:31:02.339320Z"
    }
   },
   "outputs": [],
   "source": [
    "def unstack_index(df):\n",
    "    tmp_df = df.reset_index()\n",
    "    tmp_df = tmp_df.set_index('GRP')\n",
    "    return tmp_df"
   ]
  },
  {
   "cell_type": "code",
   "execution_count": null,
   "id": "3621fb5704b46c61",
   "metadata": {
    "ExecuteTime": {
     "end_time": "2024-11-30T01:31:02.828184Z",
     "start_time": "2024-11-30T01:31:02.812909Z"
    }
   },
   "outputs": [],
   "source": [
    "softseg_df = unstack_index(softseg_df)\n",
    "softseg_df"
   ]
  },
  {
   "cell_type": "markdown",
   "id": "74f8c8ceefab66d8",
   "metadata": {},
   "source": [
    "# Clinical Data Prep"
   ]
  },
  {
   "cell_type": "markdown",
   "id": "519c26a808ccd60f",
   "metadata": {},
   "source": [
    "## Data Setup"
   ]
  },
  {
   "cell_type": "markdown",
   "id": "643a54a688eacfdd",
   "metadata": {},
   "source": [
    "Grab the participants data; uncomment to run, it can be quite time consuming"
   ]
  },
  {
   "cell_type": "code",
   "execution_count": null,
   "id": "95d110a7201170b9",
   "metadata": {
    "ExecuteTime": {
     "end_time": "2024-11-30T01:31:03.043527Z",
     "start_time": "2024-11-30T01:31:03.042115Z"
    }
   },
   "outputs": [],
   "source": [
    "# %%bash\n",
    "\n",
    "# cp \"/work/cadotte_lab/bids_cmri/participants.tsv\" \"./participants.tsv\""
   ]
  },
  {
   "cell_type": "markdown",
   "id": "3bcc6ab341cf5f98",
   "metadata": {},
   "source": [
    "Load the data with pandas, setting patient GRP as the index"
   ]
  },
  {
   "cell_type": "code",
   "execution_count": null,
   "id": "21756f9eba4c677",
   "metadata": {
    "ExecuteTime": {
     "end_time": "2024-11-30T01:31:03.141176Z",
     "start_time": "2024-11-30T01:31:03.101198Z"
    }
   },
   "outputs": [],
   "source": [
    "participants_df = pd.read_csv('../participants.tsv', sep='\\t')\n",
    "participants_df = participants_df.set_index('GRP')\n",
    "participants_df.iloc[:10, :]"
   ]
  },
  {
   "cell_type": "markdown",
   "id": "561a09595f88c489",
   "metadata": {},
   "source": [
    "## mJOA Cleanup"
   ]
  },
  {
   "cell_type": "markdown",
   "id": "31f8201264a6bc1c",
   "metadata": {},
   "source": [
    "Isolate the initial and 1-year mJOA metrics so they are not deleted by mistake "
   ]
  },
  {
   "cell_type": "code",
   "execution_count": null,
   "id": "76e3bf5cc1fd75d9",
   "metadata": {
    "ExecuteTime": {
     "end_time": "2024-11-30T01:31:03.294175Z",
     "start_time": "2024-11-30T01:31:03.291770Z"
    }
   },
   "outputs": [],
   "source": [
    "mjoa_cols = [\n",
    "    \"('mJOA', 'initial')\",\n",
    "    \"('mJOA', '12 months')\",\n",
    "    \"('mJOA; Total [CSA]', 'initial')\",\n",
    "    \"('mJOA; Total [CSA]', '12 months')\"\n",
    "]\n",
    "mjoa_df = participants_df.loc[:, mjoa_cols]"
   ]
  },
  {
   "cell_type": "markdown",
   "id": "b9bce0b275218ea5",
   "metadata": {},
   "source": [
    "Transfer the CSA dataset's values into the originals when their is not an original value to go off of"
   ]
  },
  {
   "cell_type": "code",
   "execution_count": null,
   "id": "675f1033754c18cc",
   "metadata": {
    "ExecuteTime": {
     "end_time": "2024-11-30T01:31:03.639509Z",
     "start_time": "2024-11-30T01:31:03.636248Z"
    }
   },
   "outputs": [],
   "source": [
    "missing_idx = mjoa_df.loc[:, \"('mJOA', 'initial')\"].isna()\n",
    "print(f\"Before: {np.sum(missing_idx)}\")\n",
    "mjoa_df.loc[missing_idx, \"('mJOA', 'initial')\"] = mjoa_df.loc[missing_idx, \"('mJOA; Total [CSA]', 'initial')\"]\n",
    "missing_idx = mjoa_df.loc[:, \"('mJOA', 'initial')\"].isna()\n",
    "print(f\"After: {np.sum(missing_idx)}\")"
   ]
  },
  {
   "cell_type": "code",
   "execution_count": null,
   "id": "ac43f07059ce527e",
   "metadata": {
    "ExecuteTime": {
     "end_time": "2024-11-30T01:31:03.678672Z",
     "start_time": "2024-11-30T01:31:03.674577Z"
    }
   },
   "outputs": [],
   "source": [
    "missing_idx = mjoa_df.loc[:, \"('mJOA', '12 months')\"].isna()\n",
    "print(f\"Before: {np.sum(missing_idx)}\")\n",
    "mjoa_df.loc[missing_idx, \"('mJOA', '12 months')\"] = mjoa_df.loc[missing_idx, \"('mJOA; Total [CSA]', '12 months')\"]\n",
    "missing_idx = mjoa_df.loc[:, \"('mJOA', '12 months')\"].isna()\n",
    "print(f\"After: {np.sum(missing_idx)}\")"
   ]
  },
  {
   "cell_type": "code",
   "execution_count": null,
   "id": "dd89818e70fa9a7f",
   "metadata": {
    "ExecuteTime": {
     "end_time": "2024-11-30T01:31:03.730539Z",
     "start_time": "2024-11-30T01:31:03.725283Z"
    }
   },
   "outputs": [],
   "source": [
    "mjoa_df"
   ]
  },
  {
   "cell_type": "markdown",
   "id": "ee6187e460cdad65",
   "metadata": {},
   "source": [
    "Drop the (now redundant) columns in both datasets"
   ]
  },
  {
   "cell_type": "code",
   "execution_count": null,
   "id": "aed55304f43a2e7b",
   "metadata": {
    "ExecuteTime": {
     "end_time": "2024-11-30T01:31:03.798113Z",
     "start_time": "2024-11-30T01:31:03.793260Z"
    }
   },
   "outputs": [],
   "source": [
    "mjoa_df = mjoa_df.drop([\"('mJOA; Total [CSA]', 'initial')\", \"('mJOA; Total [CSA]', '12 months')\"], axis=1)\n",
    "participants_df = participants_df.drop(mjoa_cols, axis=1)"
   ]
  },
  {
   "cell_type": "markdown",
   "id": "3e78c230dab0892e",
   "metadata": {},
   "source": [
    "## Timepoint isolation"
   ]
  },
  {
   "cell_type": "markdown",
   "id": "c699fada1bba5aa0",
   "metadata": {},
   "source": [
    "Isolate data w/o a timepoint before proceeding"
   ]
  },
  {
   "cell_type": "code",
   "execution_count": null,
   "id": "86da1c8c51b26260",
   "metadata": {
    "ExecuteTime": {
     "end_time": "2024-11-30T01:31:03.857423Z",
     "start_time": "2024-11-30T01:31:03.840960Z"
    }
   },
   "outputs": [],
   "source": [
    "non_timed = participants_df.iloc[:, -20:]\n",
    "timed = participants_df.drop(non_timed.columns, axis=1)\n",
    "timed"
   ]
  },
  {
   "cell_type": "markdown",
   "id": "a380580294f92382",
   "metadata": {},
   "source": [
    "Only keep values w/ an initial time point (only mJOA is needed after 1 year, as it's the only value important to calculating the target)"
   ]
  },
  {
   "cell_type": "code",
   "execution_count": null,
   "id": "a4ea96eb00fd0538",
   "metadata": {
    "ExecuteTime": {
     "end_time": "2024-11-30T01:31:04.415565Z",
     "start_time": "2024-11-30T01:31:04.398417Z"
    }
   },
   "outputs": [],
   "source": [
    "keep_cols = []\n",
    "for c in timed.columns:\n",
    "    if c.split(',')[1] == \" 'initial')\":\n",
    "        keep_cols.append(c)\n",
    "\n",
    "cleaned_participants_df = participants_df.loc[:, keep_cols]\n",
    "cleaned_participants_df.loc[:, non_timed.columns] = non_timed\n",
    "cleaned_participants_df"
   ]
  },
  {
   "cell_type": "markdown",
   "id": "fb554bbc547132f0",
   "metadata": {},
   "source": [
    "Drop redundant columns in the dataset"
   ]
  },
  {
   "cell_type": "code",
   "execution_count": null,
   "id": "31e661ee49ec5e2a",
   "metadata": {
    "ExecuteTime": {
     "end_time": "2024-11-30T01:31:04.554802Z",
     "start_time": "2024-11-30T01:31:04.552443Z"
    }
   },
   "outputs": [],
   "source": [
    "cleaned_participants_df = cleaned_participants_df.drop(columns=[\"('Surgical', 'initial')\", \"('BMI', 'initial')\"])"
   ]
  },
  {
   "cell_type": "markdown",
   "id": "a2907f16e431356d",
   "metadata": {},
   "source": [
    "Reformat column headers to be cleaner, namely by removing the (now redundant) time point"
   ]
  },
  {
   "cell_type": "code",
   "execution_count": null,
   "id": "2f0241a517d1484d",
   "metadata": {
    "ExecuteTime": {
     "end_time": "2024-11-30T01:31:04.915766Z",
     "start_time": "2024-11-30T01:31:04.913650Z"
    }
   },
   "outputs": [],
   "source": [
    "cols = [c.replace(\"'initial'\", \"\") for c in cleaned_participants_df.columns]\n",
    "cleaned_participants_df.columns = cols"
   ]
  },
  {
   "cell_type": "code",
   "execution_count": null,
   "id": "ca9b642a41459f3b",
   "metadata": {
    "ExecuteTime": {
     "end_time": "2024-11-30T01:31:04.942766Z",
     "start_time": "2024-11-30T01:31:04.925798Z"
    }
   },
   "outputs": [],
   "source": [
    "cleaned_participants_df"
   ]
  },
  {
   "cell_type": "markdown",
   "id": "9eacaf2e7faba51d",
   "metadata": {},
   "source": [
    "## EQ5D Unusual Null Value Correction"
   ]
  },
  {
   "cell_type": "markdown",
   "id": "1e6162a983815247",
   "metadata": {},
   "source": [
    "EQ5D occasionally uses the value of `4` to indicate a null value for some reason"
   ]
  },
  {
   "cell_type": "code",
   "execution_count": null,
   "id": "eb73a9cb11bc7ea4",
   "metadata": {
    "ExecuteTime": {
     "end_time": "2024-11-30T01:31:05.067904Z",
     "start_time": "2024-11-30T01:31:05.064893Z"
    }
   },
   "outputs": [],
   "source": [
    "for c in cleaned_participants_df.columns:\n",
    "    if 'EQ5D' in c:\n",
    "        cleaned_participants_df.loc[cleaned_participants_df[c] == 4, c] = np.nan"
   ]
  },
  {
   "cell_type": "markdown",
   "id": "d7925bf9b1ddd364",
   "metadata": {},
   "source": [
    "## Consolidation and Clean-Up"
   ]
  },
  {
   "cell_type": "markdown",
   "id": "7a805d44ad4c16d4",
   "metadata": {},
   "source": [
    "Add back in the mJOA metrics"
   ]
  },
  {
   "cell_type": "code",
   "execution_count": null,
   "id": "b7db16c5426a6c18",
   "metadata": {
    "ExecuteTime": {
     "end_time": "2024-11-30T01:31:05.626566Z",
     "start_time": "2024-11-30T01:31:05.610532Z"
    }
   },
   "outputs": [],
   "source": [
    "final_participants_df = cleaned_participants_df.copy()\n",
    "final_participants_df.loc[:, mjoa_df.columns] = mjoa_df\n",
    "final_participants_df"
   ]
  },
  {
   "cell_type": "markdown",
   "id": "73bbac4c5cb15e31",
   "metadata": {},
   "source": [
    "Format the column headers to be cleaner by removing characters which could cause issues with common storage methodologies (namely CSV, TSV, and SQL formats)"
   ]
  },
  {
   "cell_type": "code",
   "execution_count": null,
   "id": "9e77cf48aadfa150",
   "metadata": {
    "ExecuteTime": {
     "end_time": "2024-11-30T01:31:05.766626Z",
     "start_time": "2024-11-30T01:31:05.754626Z"
    }
   },
   "outputs": [],
   "source": [
    "cols = [c.replace(\"'\", \"\").replace(\",\", \"\").replace(\" )\", \")\") for c in final_participants_df.columns]\n",
    "cols = [c[1:-1] if c[0] == \"(\" and c[-1] == \")\" else c for c in cols]\n",
    "final_participants_df.columns = cols\n",
    "final_participants_df"
   ]
  },
  {
   "cell_type": "markdown",
   "id": "c5487ef8ea4b8108",
   "metadata": {},
   "source": [
    "Calculate the Hirabayashi Recovery Ratio (HRR) and whether it is a significant improvement or not (HRR >= 0.5)"
   ]
  },
  {
   "cell_type": "code",
   "execution_count": null,
   "id": "3aa25ffc98edb213",
   "metadata": {
    "ExecuteTime": {
     "end_time": "2024-11-30T01:31:05.848151Z",
     "start_time": "2024-11-30T01:31:05.846523Z"
    }
   },
   "outputs": [],
   "source": [
    "def hrr(mjoa_init, mjoa_1year):\n",
    "    numerator = mjoa_1year - mjoa_init\n",
    "    denominator = 18 - mjoa_init\n",
    "    return numerator / denominator"
   ]
  },
  {
   "cell_type": "code",
   "execution_count": null,
   "id": "78927502c11ad35a",
   "metadata": {
    "ExecuteTime": {
     "end_time": "2024-11-30T01:31:05.907369Z",
     "start_time": "2024-11-30T01:31:05.903709Z"
    }
   },
   "outputs": [],
   "source": [
    "hrr_vals = hrr(final_participants_df['mJOA initial'], final_participants_df['mJOA 12 months'])\n",
    "final_participants_df['HRR'] = hrr_vals\n",
    "final_participants_df['Recovery Class'] = ['good' if v >= 0.5 else \"fair\" for v in hrr_vals]\n",
    "final_participants_df.loc[pd.isna(hrr_vals), 'Recovery Class'] = np.nan\n",
    "final_participants_df = final_participants_df.dropna(subset=['Recovery Class'])"
   ]
  },
  {
   "cell_type": "markdown",
   "id": "6d4b4cb1eb39129",
   "metadata": {},
   "source": [
    "Drop any patients which are missing a valid Recovery Class"
   ]
  },
  {
   "cell_type": "code",
   "execution_count": null,
   "id": "a9f60c43db05c3ec",
   "metadata": {
    "ExecuteTime": {
     "end_time": "2024-11-30T01:31:05.972847Z",
     "start_time": "2024-11-30T01:31:05.959727Z"
    }
   },
   "outputs": [],
   "source": [
    "final_participants_df.dropna(axis=0, subset=['Recovery Class'])"
   ]
  },
  {
   "cell_type": "markdown",
   "id": "59bdf35b-68fc-47bc-accb-7559db940af4",
   "metadata": {},
   "source": [
    "Drop any patients which did not undergo surgical treatment"
   ]
  },
  {
   "cell_type": "code",
   "execution_count": null,
   "id": "9fb261a6-68a3-415e-bbef-80feaf6353d2",
   "metadata": {},
   "outputs": [],
   "source": [
    "final_participants_df = final_participants_df.loc[final_participants_df['Surgical'] == 1, :]"
   ]
  },
  {
   "cell_type": "markdown",
   "id": "745fe63a-4b5b-4239-96ab-01986c312def",
   "metadata": {},
   "source": [
    "Save the results on their own for isolated ML model testing"
   ]
  },
  {
   "cell_type": "code",
   "execution_count": null,
   "id": "a3b7e6da-0e29-4502-a674-15a194d34081",
   "metadata": {},
   "outputs": [],
   "source": [
    "final_participants_df.to_csv('clinical_only.tsv', sep='\\t')"
   ]
  },
  {
   "cell_type": "markdown",
   "id": "ed06267d80be556b",
   "metadata": {},
   "source": [
    "# Data Joining and Finalization"
   ]
  },
  {
   "cell_type": "markdown",
   "id": "19511025e16b7e3e",
   "metadata": {},
   "source": [
    "## Data Joining"
   ]
  },
  {
   "cell_type": "code",
   "execution_count": null,
   "id": "209c7bbe6c9a5ed",
   "metadata": {
    "ExecuteTime": {
     "end_time": "2024-11-30T01:31:06.084904Z",
     "start_time": "2024-11-30T01:31:06.069937Z"
    }
   },
   "outputs": [],
   "source": [
    "final_softseg_df = softseg_df.join(final_participants_df, how='inner')\n",
    "final_softseg_df"
   ]
  },
  {
   "cell_type": "markdown",
   "id": "23ccb70cf2708233",
   "metadata": {},
   "source": [
    "## Redundant run deletion"
   ]
  },
  {
   "cell_type": "markdown",
   "id": "b1e6b53c8d8edcf9",
   "metadata": {},
   "source": [
    "Keep only the last run of each entry remaining to avoid redundancy"
   ]
  },
  {
   "cell_type": "code",
   "execution_count": null,
   "id": "4d76a91114f83d94",
   "metadata": {
    "ExecuteTime": {
     "end_time": "2024-11-30T01:31:06.253311Z",
     "start_time": "2024-11-30T01:31:06.220687Z"
    }
   },
   "outputs": [],
   "source": [
    "final_softseg_df = final_softseg_df.sort_values('run').groupby(['GRP', 'acq', 'weight']).last()\n",
    "final_softseg_df = final_softseg_df.drop(columns=['run'])\n",
    "final_softseg_df"
   ]
  },
  {
   "cell_type": "markdown",
   "id": "103f0a9ec03bc3ac",
   "metadata": {},
   "source": [
    "## Stratification"
   ]
  },
  {
   "cell_type": "markdown",
   "id": "ab0d3554-f939-421a-9d81-b4f4a04d1c8c",
   "metadata": {},
   "source": [
    "Initial stratification"
   ]
  },
  {
   "cell_type": "code",
   "execution_count": null,
   "id": "5f10588974001144",
   "metadata": {
    "ExecuteTime": {
     "end_time": "2024-11-30T01:31:06.411168Z",
     "start_time": "2024-11-30T01:31:06.364129Z"
    }
   },
   "outputs": [],
   "source": [
    "df_map = dict()\n",
    "for idx, df in final_softseg_df.reset_index().groupby(['acq', 'weight']):\n",
    "    # If there are less than 50 samples, just skip\n",
    "    if df.shape[0] < 50:\n",
    "        continue\n",
    "    # Otherwise, save the result to a spreadsheet for further use\n",
    "    df_label = '_'.join(idx)\n",
    "    df_map[df_label] = df"
   ]
  },
  {
   "cell_type": "markdown",
   "id": "99222f8e-57a2-4686-9438-26baa240346e",
   "metadata": {
    "ExecuteTime": {
     "end_time": "2024-11-30T01:31:06.566518Z",
     "start_time": "2024-11-30T01:31:06.565314Z"
    }
   },
   "source": [
    "Full datasets"
   ]
  },
  {
   "cell_type": "code",
   "execution_count": null,
   "id": "832889aa-4e3b-40ec-9cb1-e738c8943973",
   "metadata": {},
   "outputs": [],
   "source": [
    "for k, df, in df_map.items():\n",
    "    file_out = f\"full_{k}.tsv\"\n",
    "    df.set_index('GRP').to_csv(file_out, sep='\\t')"
   ]
  },
  {
   "cell_type": "markdown",
   "id": "0d406671-b5d4-4453-87a3-a990787a0014",
   "metadata": {},
   "source": [
    "Imaging metrics only"
   ]
  },
  {
   "cell_type": "code",
   "execution_count": null,
   "id": "16daba58-abb1-44b4-91eb-a272b7fec405",
   "metadata": {},
   "outputs": [],
   "source": [
    "img_cols = list(softseg_df.drop(columns=['run']).columns)\n",
    "img_cols.extend(['GRP', 'Recovery Class'])\n",
    "\n",
    "for k, df, in df_map.items():\n",
    "    file_out = f\"img_only_{k}.tsv\"\n",
    "    sub_df = df.loc[:, img_cols]\n",
    "    sub_df.set_index('GRP').to_csv(file_out, sep='\\t')"
   ]
  },
  {
   "cell_type": "code",
   "execution_count": null,
   "id": "7296190e-2eb1-4b42-9522-e057a433bb43",
   "metadata": {},
   "outputs": [],
   "source": []
  }
 ],
 "metadata": {
  "kernelspec": {
   "display_name": "Python 3 (ipykernel)",
   "language": "python",
   "name": "python3"
  },
  "language_info": {
   "codemirror_mode": {
    "name": "ipython",
    "version": 3
   },
   "file_extension": ".py",
   "mimetype": "text/x-python",
   "name": "python",
   "nbconvert_exporter": "python",
   "pygments_lexer": "ipython3",
   "version": "3.12.7"
  }
 },
 "nbformat": 4,
 "nbformat_minor": 5
}
